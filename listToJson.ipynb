{
 "cells": [
  {
   "cell_type": "code",
   "execution_count": 9,
   "metadata": {},
   "outputs": [
    {
     "name": "stdout",
     "output_type": "stream",
     "text": [
      "extraction succeed\n"
     ]
    }
   ],
   "source": [
    "import pandas as pd\n",
    "import re\n",
    "import json\n",
    "\n",
    "\n",
    "df = pd.read_csv('list.csv')\n",
    "\n",
    "\n",
    "def categorize_row(row):\n",
    "    # Check pattern\n",
    "    pattern = re.compile(r'uu-no-12-tahun-2020', re.IGNORECASE)\n",
    "    if any(pattern.search(str(value)) for value in row):\n",
    "        return 'Undang undang'\n",
    "\n",
    "    \n",
    "    categories = {\n",
    "        'Undang undang': ['Undang-undang', 'UUD', 'UU'],\n",
    "        'PERPPU': ['PERPPU'],\n",
    "        'Peraturan Pemerintah': ['Peraturan Pemerintah', 'pp', 'PP'],\n",
    "        'Peraturan Presiden': ['Peraturan Presiden', 'Keppres', 'keppres', 'Perpres', 'inpres', \"Inpres\"],\n",
    "        'Peraturan Menteri': ['Peraturan Menteri', 'permen', \"Permen\", ],\n",
    "        'Peraturan Badan': ['Peraturan Badan', 'Peraturan Lembaga'],\n",
    "        'Peraturan Daerah': ['Peraturan Daerah']\n",
    "    }\n",
    "    \n",
    "    # Check keywords\n",
    "    for category, keywords in categories.items():\n",
    "        for keyword in keywords:\n",
    "            if any(keyword in str(value) for value in row):\n",
    "                return category\n",
    "    \n",
    "    return 'Peraturan lainnya'\n",
    "\n",
    "\n",
    "df['Jenis Peraturan'] = df.apply(categorize_row, axis=1)\n",
    "\n",
    "\n",
    "df_extracted = df[['wrapper_URL', 'Jenis Peraturan']]\n",
    "\n",
    "\n",
    "grouped = df_extracted.groupby('Jenis Peraturan')['wrapper_URL'].apply(list).reset_index()\n",
    "\n",
    "# Rename collumns\n",
    "grouped = grouped.rename(columns={'Jenis Peraturan': 'jenis_peraturan', 'wrapper_URL': 'link'})\n",
    "\n",
    "# Convert the DataFrame to a list of dictionaries\n",
    "output = grouped.to_dict(orient='records')\n",
    "\n",
    "# Save the output \n",
    "with open('list.json', 'w') as json_file:\n",
    "    json.dump(output, json_file, indent=2)\n",
    "\n",
    "print(\"extraction succeed\")\n"
   ]
  }
 ],
 "metadata": {
  "kernelspec": {
   "display_name": "Python 3",
   "language": "python",
   "name": "python3"
  },
  "language_info": {
   "codemirror_mode": {
    "name": "ipython",
    "version": 3
   },
   "file_extension": ".py",
   "mimetype": "text/x-python",
   "name": "python",
   "nbconvert_exporter": "python",
   "pygments_lexer": "ipython3",
   "version": "3.12.2"
  }
 },
 "nbformat": 4,
 "nbformat_minor": 2
}
