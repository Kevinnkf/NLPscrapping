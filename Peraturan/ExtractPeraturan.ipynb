{
 "cells": [
  {
   "cell_type": "code",
   "execution_count": 2,
   "metadata": {},
   "outputs": [
    {
     "name": "stdout",
     "output_type": "stream",
     "text": [
      "Collecting beautifulsoup4\n",
      "  Downloading beautifulsoup4-4.12.3-py3-none-any.whl (147 kB)\n",
      "     -------------------------------------- 147.9/147.9 KB 1.8 MB/s eta 0:00:00\n",
      "Collecting soupsieve>1.2\n",
      "  Downloading soupsieve-2.5-py3-none-any.whl (36 kB)\n",
      "Installing collected packages: soupsieve, beautifulsoup4\n",
      "Successfully installed beautifulsoup4-4.12.3 soupsieve-2.5\n",
      "Note: you may need to restart the kernel to use updated packages.\n"
     ]
    },
    {
     "name": "stderr",
     "output_type": "stream",
     "text": [
      "WARNING: You are using pip version 22.0.4; however, version 24.0 is available.\n",
      "You should consider upgrading via the 'c:\\Users\\Lattae\\AppData\\Local\\Programs\\Python\\Python39\\python.exe -m pip install --upgrade pip' command.\n"
     ]
    }
   ],
   "source": [
    "%pip install beautifulsoup4"
   ]
  },
  {
   "cell_type": "code",
   "execution_count": 2,
   "metadata": {},
   "outputs": [
    {
     "name": "stdout",
     "output_type": "stream",
     "text": [
      "Collecting flask\n",
      "  Downloading flask-3.0.3-py3-none-any.whl (101 kB)\n",
      "     -------------------------------------- 101.7/101.7 KB 1.5 MB/s eta 0:00:00\n",
      "Collecting Werkzeug>=3.0.0\n",
      "  Using cached werkzeug-3.0.3-py3-none-any.whl (227 kB)\n",
      "Collecting blinker>=1.6.2\n",
      "  Downloading blinker-1.8.2-py3-none-any.whl (9.5 kB)\n",
      "Requirement already satisfied: importlib-metadata>=3.6.0 in c:\\users\\lattae\\appdata\\roaming\\python\\python39\\site-packages (from flask) (7.1.0)\n",
      "Collecting itsdangerous>=2.1.2\n",
      "  Downloading itsdangerous-2.2.0-py3-none-any.whl (16 kB)\n",
      "Collecting click>=8.1.3\n",
      "  Using cached click-8.1.7-py3-none-any.whl (97 kB)\n",
      "Requirement already satisfied: Jinja2>=3.1.2 in c:\\users\\lattae\\appdata\\local\\programs\\python\\python39\\lib\\site-packages (from flask) (3.1.4)\n",
      "Requirement already satisfied: colorama in c:\\users\\lattae\\appdata\\roaming\\python\\python39\\site-packages (from click>=8.1.3->flask) (0.4.6)\n",
      "Requirement already satisfied: zipp>=0.5 in c:\\users\\lattae\\appdata\\roaming\\python\\python39\\site-packages (from importlib-metadata>=3.6.0->flask) (3.19.2)\n",
      "Requirement already satisfied: MarkupSafe>=2.0 in c:\\users\\lattae\\appdata\\local\\programs\\python\\python39\\lib\\site-packages (from Jinja2>=3.1.2->flask) (2.1.5)\n",
      "Installing collected packages: Werkzeug, itsdangerous, click, blinker, flask\n",
      "Successfully installed Werkzeug-3.0.3 blinker-1.8.2 click-8.1.7 flask-3.0.3 itsdangerous-2.2.0\n",
      "Note: you may need to restart the kernel to use updated packages.\n"
     ]
    },
    {
     "name": "stderr",
     "output_type": "stream",
     "text": [
      "WARNING: You are using pip version 22.0.4; however, version 24.0 is available.\n",
      "You should consider upgrading via the 'c:\\Users\\Lattae\\AppData\\Local\\Programs\\Python\\Python39\\python.exe -m pip install --upgrade pip' command.\n"
     ]
    }
   ],
   "source": [
    "%pip install flask"
   ]
  },
  {
   "cell_type": "code",
   "execution_count": 9,
   "metadata": {},
   "outputs": [],
   "source": [
    "from flask import Flask, jsonify, request\n",
    "import json\n",
    "import requests\n",
    "from bs4 import BeautifulSoup\n",
    "import re"
   ]
  },
  {
   "cell_type": "code",
   "execution_count": 10,
   "metadata": {},
   "outputs": [],
   "source": [
    "app = Flask(__name__)"
   ]
  },
  {
   "cell_type": "code",
   "execution_count": 12,
   "metadata": {},
   "outputs": [],
   "source": [
    "def clean_text(text):\n",
    "    # Replace newline (\\n), carriage return (\\r), and multiple spaces with a single space\n",
    "    return re.sub(r'[\\n\\r]+', ' ', text).strip()"
   ]
  },
  {
   "cell_type": "code",
   "execution_count": 16,
   "metadata": {},
   "outputs": [],
   "source": [
    "def extract_website_info(url):\n",
    "    try:\n",
    "        # Send request to website\n",
    "        response = requests.get(url)\n",
    "        response.raise_for_status()  # Raise error for bad response\n",
    "        \n",
    "        # Parse HTML content\n",
    "        soup = BeautifulSoup(response.content, 'html.parser')\n",
    "        \n",
    "        # Extract Judul\n",
    "        judul = soup.find('h1').text.strip() if soup.find('h1') else '-'\n",
    "        judul = clean_text(judul)\n",
    "        \n",
    "        def get_table_data(header_name):\n",
    "            header = soup.find('th', string=header_name)\n",
    "            if header:\n",
    "                td = header.find_next_sibling('td')\n",
    "                if td:\n",
    "                    link = td.find('a')\n",
    "                    if link:\n",
    "                        # Extract the href attribute of the <a> tag\n",
    "                        return 'https://peraturan.go.id' + link.get('href')\n",
    "                    else:\n",
    "                        # Return the text content of the table cell\n",
    "                        return clean_text(td.text.strip())\n",
    "            return '-'\n",
    "        \n",
    "        # Extracting specific data from the table\n",
    "        jenis_bentuk_peraturan = get_table_data('Jenis/Bentuk Peraturan')\n",
    "        pemrakarsa = get_table_data('Pemrakarsa')\n",
    "        nomor = get_table_data('Nomor')\n",
    "        tahun = get_table_data('Tahun')\n",
    "        tentang = get_table_data('Tentang')\n",
    "        tempat_penetapan = get_table_data('Tempat Penetapan')\n",
    "        tanggal_penetapan = get_table_data('Ditetapkan Tanggal')\n",
    "        pejabat_menetapkan = get_table_data('Pejabat yang Menetapkan')\n",
    "        status = get_table_data('Status')\n",
    "        dokumen = get_table_data('Dokumen Peraturan')  # Update header name here\n",
    "        tahun_pengundangan = get_table_data('Tahun Pengundangan')\n",
    "        no_pengundangan = get_table_data('Nomor Pengundangan')\n",
    "        no_tambahan = get_table_data('Nomor Tambahan')\n",
    "        tanggal_pengundangan = get_table_data('Tanggal Pengundangan')\n",
    "        pejabat_pengundangan = get_table_data('Pejabat Pengundangan')\n",
    "        \n",
    "        # Extract mengubah and dasar hukum information list\n",
    "        mengubah = []\n",
    "        dasar_hukum = []\n",
    "        \n",
    "        div_card_body = soup.find_all('div', class_='card-body')\n",
    "        \n",
    "        # Print the index of each div.card-body\n",
    "        for index, section in enumerate(div_card_body):\n",
    "            if 'Mengubah :' in section.text:\n",
    "                for item in section.find_all('li'):\n",
    "                    link = item.find('a')\n",
    "                    if link:\n",
    "                        mengubah.append({\n",
    "                            'text': clean_text(link.text.strip()),\n",
    "                            'link': link.get('href')\n",
    "                        })\n",
    "                    else:\n",
    "                        mengubah.append({'text': clean_text(item.text.strip()), 'link': None})\n",
    "        \n",
    "        # Extract the second 'ul' element within the second 'div.card-body'\n",
    "        if len(div_card_body) > 1:\n",
    "            sec_div_card_body = div_card_body[2]\n",
    "            ul_tags = sec_div_card_body.find_all('ul')\n",
    "            if ul_tags:\n",
    "                sec_ul_tag = ul_tags[0]  # Second ul in the second div\n",
    "                li_tags = sec_ul_tag.find_all('li')\n",
    "                for item in li_tags:\n",
    "                    link = item.find('a')\n",
    "                    if link:\n",
    "                        dasar_hukum.append({\n",
    "                            'text': clean_text(item.text.strip()),\n",
    "                            'link': link.get('href')\n",
    "                        })\n",
    "                    else:\n",
    "                        dasar_hukum.append({'text': clean_text(item.text.strip()), 'link': None})\n",
    "        \n",
    "        data = {\n",
    "            'judul': judul,\n",
    "            'jenis_bentuk_peraturan': jenis_bentuk_peraturan,\n",
    "            'pemrakarsa': pemrakarsa,\n",
    "            'nomor': nomor,\n",
    "            'tahun': tahun,\n",
    "            'tentang': tentang,\n",
    "            'tempat_penetapan': tempat_penetapan,\n",
    "            'tanggal_penetapan': tanggal_penetapan,\n",
    "            'pejabat_menetapkan': pejabat_menetapkan,\n",
    "            'status': status,\n",
    "            'dokumen': dokumen,\n",
    "            'tahun_pengundangan': tahun_pengundangan,\n",
    "            'no_pengundangan': no_pengundangan,\n",
    "            'no_tambahan': no_tambahan,\n",
    "            'tanggal_pengundangan': tanggal_pengundangan,\n",
    "            'pejabat_pengundangan': pejabat_pengundangan,\n",
    "            'mengubah': mengubah,\n",
    "            'dasar_hukum': dasar_hukum\n",
    "        }\n",
    "        \n",
    "        return data\n",
    "        \n",
    "    except requests.RequestException as e:\n",
    "        print(f\"Error fetching the URL: {e}\")\n",
    "        return None"
   ]
  },
  {
   "cell_type": "code",
   "execution_count": 17,
   "metadata": {},
   "outputs": [],
   "source": [
    "def post_data_to_api(api_url, data):\n",
    "    try:\n",
    "        headers = {\n",
    "            'Content-Type': 'application/json',\n",
    "            'Accept': 'application/json'\n",
    "        }\n",
    "        response = requests.post(api_url, json=data, headers=headers)\n",
    "        response.raise_for_status()\n",
    "        print('Data successfully posted:', response.status_code)\n",
    "        print('Response:', response.json())\n",
    "    except requests.RequestException as e:\n",
    "        print(f\"Error posting data to the API: {e}\")"
   ]
  },
  {
   "cell_type": "code",
   "execution_count": 18,
   "metadata": {},
   "outputs": [
    {
     "name": "stdout",
     "output_type": "stream",
     "text": [
      "Extracted Data:\n",
      "{\n",
      "    \"judul\": \"Peraturan Pemerintah Pengganti Undang-undang Nomor 1 Tahun 2022 Tentang Perubahan Atas Undang-undang Nomor 7 Tahun 2017 Tentang pemilihan Umum\",\n",
      "    \"jenis_bentuk_peraturan\": \"PERATURAN PEMERINTAH PENGGANTI UNDANG-UNDANG\",\n",
      "    \"pemrakarsa\": \"PEMERINTAH PUSAT\",\n",
      "    \"nomor\": \"1\",\n",
      "    \"tahun\": \"2022\",\n",
      "    \"tentang\": \"PERUBAHAN ATAS UNDANG-UNDANG NOMOR 7 TAHUN 2017 TENTANG PEMILIHAN UMUM\",\n",
      "    \"tempat_penetapan\": \"Jakarta\",\n",
      "    \"tanggal_penetapan\": \"12 Desember 2022\",\n",
      "    \"pejabat_menetapkan\": \"\",\n",
      "    \"status\": \"Berlaku\",\n",
      "    \"dokumen\": \"https://peraturan.go.id/files/Salinan+Perpu+Nomor+1+tahun+2022.pdf\",\n",
      "    \"tahun_pengundangan\": \"2022\",\n",
      "    \"no_pengundangan\": \"224\",\n",
      "    \"no_tambahan\": \"6832\",\n",
      "    \"tanggal_pengundangan\": \"12 Desember 2022\",\n",
      "    \"pejabat_pengundangan\": \"\",\n",
      "    \"mengubah\": [\n",
      "        {\n",
      "            \"text\": \"Undang-Undang Nomor 7 Tahun 2017\",\n",
      "            \"link\": \"/id/uu-no-7-tahun-2017\"\n",
      "        }\n",
      "    ],\n",
      "    \"dasar_hukum\": [\n",
      "        {\n",
      "            \"text\": \"Tentang Undang-undang Dasar Negara Republik Indonesia Tahun 1945\",\n",
      "            \"link\": \"/id/uud-1945\"\n",
      "        },\n",
      "        {\n",
      "            \"text\": \"Undang-Undang Nomor 7 Tahun 2017 Tentang Pemilihan Umum\",\n",
      "            \"link\": \"/id/uu-no-7-tahun-2017\"\n",
      "        },\n",
      "        {\n",
      "            \"text\": \"Undang-Undang Nomor 3 Tahun 2022 Tentang Ibu Kota Negara\",\n",
      "            \"link\": \"/id/uu-no-3-tahun-2022\"\n",
      "        },\n",
      "        {\n",
      "            \"text\": \"Undang-Undang Nomor 14 Tahun 2022 Tentang Pembentukan Provinsi Papua Selatan\",\n",
      "            \"link\": \"/id/uu-no-14-tahun-2022\"\n",
      "        },\n",
      "        {\n",
      "            \"text\": \"Undang-Undang Nomor 15 Tahun 2022 Tentang Pembentukan Provinsi Papua Tengah\",\n",
      "            \"link\": \"/id/uu-no-15-tahun-2022\"\n",
      "        },\n",
      "        {\n",
      "            \"text\": \"Undang-Undang Nomor 29 Tahun 2022 Tentang Pembentukan Provinsi Papua Barat Daya\",\n",
      "            \"link\": \"/id/uu-no-29-tahun-2022\"\n",
      "        },\n",
      "        {\n",
      "            \"text\": \"Undang-Undang Nomor 7 Tahun 2017 Tentang Pemilihan Umum\",\n",
      "            \"link\": \"/id/uu-no-7-tahun-2017\"\n",
      "        }\n",
      "    ]\n",
      "}\n",
      "Data successfully posted: 200\n",
      "Response: {'judul': 'Peraturan Pemerintah Pengganti Undang-undang Nomor 1 Tahun 2022 Tentang Perubahan Atas Undang-undang Nomor 7 Tahun 2017 Tentang pemilihan Umum', 'jenis_bentuk_peraturan': 'PERATURAN PEMERINTAH PENGGANTI UNDANG-UNDANG', 'pemrakarsa': 'PEMERINTAH PUSAT', 'nomor': '1', 'tahun': 2022, 'tentang': 'PERUBAHAN ATAS UNDANG-UNDANG NOMOR 7 TAHUN 2017 TENTANG PEMILIHAN UMUM', 'tempat_penetapan': 'Jakarta', 'tanggal_penetapan': '12 Desember 2022', 'status': 'Berlaku', 'tahun_pengundangan': 2022, 'no_pengundangan': 224, 'no_tambahan': 6832, 'tanggal_pengundangan': '12 Desember 2022', 'pejabat_pengundangan': '', 'mengubah': [{'text': 'Undang-Undang Nomor 7 Tahun 2017', 'link': '/id/uu-no-7-tahun-2017', '_id': '667198b852e0e5bc5e8fcee6'}], 'dasar_hukum': [{'text': 'Tentang Undang-undang Dasar Negara Republik Indonesia Tahun 1945', 'link': '/id/uud-1945', '_id': '667198b852e0e5bc5e8fcee7'}, {'text': 'Undang-Undang Nomor 7 Tahun 2017 Tentang Pemilihan Umum', 'link': '/id/uu-no-7-tahun-2017', '_id': '667198b852e0e5bc5e8fcee8'}, {'text': 'Undang-Undang Nomor 3 Tahun 2022 Tentang Ibu Kota Negara', 'link': '/id/uu-no-3-tahun-2022', '_id': '667198b852e0e5bc5e8fcee9'}, {'text': 'Undang-Undang Nomor 14 Tahun 2022 Tentang Pembentukan Provinsi Papua Selatan', 'link': '/id/uu-no-14-tahun-2022', '_id': '667198b852e0e5bc5e8fceea'}, {'text': 'Undang-Undang Nomor 15 Tahun 2022 Tentang Pembentukan Provinsi Papua Tengah', 'link': '/id/uu-no-15-tahun-2022', '_id': '667198b852e0e5bc5e8fceeb'}, {'text': 'Undang-Undang Nomor 29 Tahun 2022 Tentang Pembentukan Provinsi Papua Barat Daya', 'link': '/id/uu-no-29-tahun-2022', '_id': '667198b852e0e5bc5e8fceec'}, {'text': 'Undang-Undang Nomor 7 Tahun 2017 Tentang Pemilihan Umum', 'link': '/id/uu-no-7-tahun-2017', '_id': '667198b852e0e5bc5e8fceed'}], '_id': '667198b852e0e5bc5e8fcee5', '__v': 0}\n"
     ]
    }
   ],
   "source": [
    "if __name__ == '__main__':\n",
    "    url = \"https://www.peraturan.go.id/id/perppu-no-1-tahun-2022\"\n",
    "    extracted_data = extract_website_info(url)\n",
    "    \n",
    "    if extracted_data:\n",
    "        print(\"Extracted Data:\")\n",
    "        print(json.dumps(extracted_data, ensure_ascii=False, indent=4))\n",
    "        \n",
    "        api_url = \"http://127.0.0.1:3000/api/peraturan\"\n",
    "        post_data_to_api(api_url, extracted_data)"
   ]
  },
  {
   "cell_type": "code",
   "execution_count": 4,
   "metadata": {},
   "outputs": [
    {
     "name": "stderr",
     "output_type": "stream",
     "text": [
      "C:\\Users\\Lattae\\AppData\\Local\\Temp\\ipykernel_3884\\316193528.py:15: DeprecationWarning: The 'text' argument to find()-type methods is deprecated. Use 'string' instead.\n",
      "  header = soup.find('th', text=header_name)\n"
     ]
    }
   ],
   "source": [
    "# Extract Web Content\n",
    "url = \"https://www.peraturan.go.id/id/perppu-no-1-tahun-2022\"\n",
    "json_data  = extract_website_info(url)"
   ]
  },
  {
   "cell_type": "code",
   "execution_count": 5,
   "metadata": {},
   "outputs": [
    {
     "name": "stdout",
     "output_type": "stream",
     "text": [
      "{\n",
      "    \"judul\": \"Peraturan Pemerintah Pengganti Undang-undang Nomor 1 Tahun 2022 Tentang Perubahan Atas Undang-undang Nomor 7 Tahun 2017 Tentang pemilihan Umum\",\n",
      "    \"jenis_bentuk_peraturan\": \"PERATURAN PEMERINTAH PENGGANTI UNDANG-UNDANG\",\n",
      "    \"pemrakarsa\": \"PEMERINTAH PUSAT\",\n",
      "    \"nomor\": \"1\",\n",
      "    \"tahun\": \"2022\",\n",
      "    \"tentang\": \"PERUBAHAN ATAS UNDANG-UNDANG NOMOR 7 TAHUN 2017 TENTANG PEMILIHAN UMUM\",\n",
      "    \"tempat_penetapan\": \"Jakarta\",\n",
      "    \"tanggal_penetapan\": \"12 Desember 2022\",\n",
      "    \"pejabat_menetapkan\": \"\",\n",
      "    \"status\": \"Berlaku\",\n",
      "    \"dokumen\": \"https://peraturan.go.id/files/Salinan+Perpu+Nomor+1+tahun+2022.pdf\",\n",
      "    \"tahun_pengundangan\": \"2022\",\n",
      "    \"no_pengundangan\": \"224\",\n",
      "    \"no_tambahan\": \"6832\",\n",
      "    \"tanggal_pengundangan\": \"12 Desember 2022\",\n",
      "    \"pejabat_pengundangan\": \"\",\n",
      "    \"mengubah\": [\n",
      "        {\n",
      "            \"text\": \"Undang-Undang Nomor 7 Tahun 2017\",\n",
      "            \"link\": \"/id/uu-no-7-tahun-2017\"\n",
      "        }\n",
      "    ],\n",
      "    \"dasar_hukum\": [\n",
      "        {\n",
      "            \"text\": \"Tentang Undang-undang Dasar Negara Republik Indonesia Tahun 1945\",\n",
      "            \"link\": \"/id/uud-1945\"\n",
      "        },\n",
      "        {\n",
      "            \"text\": \"Undang-Undang Nomor 7 Tahun 2017 Tentang Pemilihan Umum\",\n",
      "            \"link\": \"/id/uu-no-7-tahun-2017\"\n",
      "        },\n",
      "        {\n",
      "            \"text\": \"Undang-Undang Nomor 3 Tahun 2022 Tentang Ibu Kota Negara\",\n",
      "            \"link\": \"/id/uu-no-3-tahun-2022\"\n",
      "        },\n",
      "        {\n",
      "            \"text\": \"Undang-Undang Nomor 14 Tahun 2022 Tentang Pembentukan Provinsi Papua Selatan\",\n",
      "            \"link\": \"/id/uu-no-14-tahun-2022\"\n",
      "        },\n",
      "        {\n",
      "            \"text\": \"Undang-Undang Nomor 15 Tahun 2022 Tentang Pembentukan Provinsi Papua Tengah\",\n",
      "            \"link\": \"/id/uu-no-15-tahun-2022\"\n",
      "        },\n",
      "        {\n",
      "            \"text\": \"Undang-Undang Nomor 29 Tahun 2022 Tentang Pembentukan Provinsi Papua Barat Daya\",\n",
      "            \"link\": \"/id/uu-no-29-tahun-2022\"\n",
      "        },\n",
      "        {\n",
      "            \"text\": \"Undang-Undang Nomor 7 Tahun 2017 Tentang Pemilihan Umum\",\n",
      "            \"link\": \"/id/uu-no-7-tahun-2017\"\n",
      "        }\n",
      "    ]\n",
      "}\n"
     ]
    }
   ],
   "source": [
    "if json_data:\n",
    "    print(json_data)"
   ]
  }
 ],
 "metadata": {
  "kernelspec": {
   "display_name": "Python 3",
   "language": "python",
   "name": "python3"
  },
  "language_info": {
   "codemirror_mode": {
    "name": "ipython",
    "version": 3
   },
   "file_extension": ".py",
   "mimetype": "text/x-python",
   "name": "python",
   "nbconvert_exporter": "python",
   "pygments_lexer": "ipython3",
   "version": "3.9.13"
  }
 },
 "nbformat": 4,
 "nbformat_minor": 2
}
